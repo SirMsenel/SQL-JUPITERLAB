{
 "cells": [
  {
   "cell_type": "code",
   "execution_count": 12,
   "metadata": {},
   "outputs": [
    {
     "name": "stdout",
     "output_type": "stream",
     "text": [
      "Requirement already satisfied: ipython-sql in /Library/Frameworks/Python.framework/Versions/3.11/lib/python3.11/site-packages (0.5.0)\n",
      "Requirement already satisfied: prettytable in /Library/Frameworks/Python.framework/Versions/3.11/lib/python3.11/site-packages (from ipython-sql) (3.12.0)\n",
      "Requirement already satisfied: ipython in /Users/mehmetsenel/Library/Python/3.11/lib/python/site-packages (from ipython-sql) (8.22.2)\n",
      "Requirement already satisfied: sqlalchemy>=2.0 in /Library/Frameworks/Python.framework/Versions/3.11/lib/python3.11/site-packages (from ipython-sql) (2.0.36)\n",
      "Requirement already satisfied: sqlparse in /Library/Frameworks/Python.framework/Versions/3.11/lib/python3.11/site-packages (from ipython-sql) (0.4.4)\n",
      "Requirement already satisfied: six in /Users/mehmetsenel/Library/Python/3.11/lib/python/site-packages (from ipython-sql) (1.16.0)\n",
      "Requirement already satisfied: ipython-genutils in /Library/Frameworks/Python.framework/Versions/3.11/lib/python3.11/site-packages (from ipython-sql) (0.2.0)\n",
      "Requirement already satisfied: typing-extensions>=4.6.0 in /Library/Frameworks/Python.framework/Versions/3.11/lib/python3.11/site-packages (from sqlalchemy>=2.0->ipython-sql) (4.12.2)\n",
      "Requirement already satisfied: decorator in /Users/mehmetsenel/Library/Python/3.11/lib/python/site-packages (from ipython->ipython-sql) (5.1.1)\n",
      "Requirement already satisfied: jedi>=0.16 in /Users/mehmetsenel/Library/Python/3.11/lib/python/site-packages (from ipython->ipython-sql) (0.19.1)\n",
      "Requirement already satisfied: matplotlib-inline in /Users/mehmetsenel/Library/Python/3.11/lib/python/site-packages (from ipython->ipython-sql) (0.1.6)\n",
      "Requirement already satisfied: prompt-toolkit<3.1.0,>=3.0.41 in /Users/mehmetsenel/Library/Python/3.11/lib/python/site-packages (from ipython->ipython-sql) (3.0.43)\n",
      "Requirement already satisfied: pygments>=2.4.0 in /Users/mehmetsenel/Library/Python/3.11/lib/python/site-packages (from ipython->ipython-sql) (2.17.2)\n",
      "Requirement already satisfied: stack-data in /Users/mehmetsenel/Library/Python/3.11/lib/python/site-packages (from ipython->ipython-sql) (0.6.3)\n",
      "Requirement already satisfied: traitlets>=5.13.0 in /Users/mehmetsenel/Library/Python/3.11/lib/python/site-packages (from ipython->ipython-sql) (5.14.2)\n",
      "Requirement already satisfied: pexpect>4.3 in /Users/mehmetsenel/Library/Python/3.11/lib/python/site-packages (from ipython->ipython-sql) (4.9.0)\n",
      "Requirement already satisfied: wcwidth in /Users/mehmetsenel/Library/Python/3.11/lib/python/site-packages (from prettytable->ipython-sql) (0.2.13)\n",
      "Requirement already satisfied: parso<0.9.0,>=0.8.3 in /Users/mehmetsenel/Library/Python/3.11/lib/python/site-packages (from jedi>=0.16->ipython->ipython-sql) (0.8.3)\n",
      "Requirement already satisfied: ptyprocess>=0.5 in /Users/mehmetsenel/Library/Python/3.11/lib/python/site-packages (from pexpect>4.3->ipython->ipython-sql) (0.7.0)\n",
      "Requirement already satisfied: executing>=1.2.0 in /Users/mehmetsenel/Library/Python/3.11/lib/python/site-packages (from stack-data->ipython->ipython-sql) (2.0.1)\n",
      "Requirement already satisfied: asttokens>=2.1.0 in /Users/mehmetsenel/Library/Python/3.11/lib/python/site-packages (from stack-data->ipython->ipython-sql) (2.4.1)\n",
      "Requirement already satisfied: pure-eval in /Users/mehmetsenel/Library/Python/3.11/lib/python/site-packages (from stack-data->ipython->ipython-sql) (0.2.2)\n"
     ]
    }
   ],
   "source": [
    "!pip install ipython-sql\n",
    "\n"
   ]
  },
  {
   "cell_type": "code",
   "execution_count": 25,
   "metadata": {},
   "outputs": [
    {
     "name": "stderr",
     "output_type": "stream",
     "text": [
      "/var/folders/5f/h_sq9qfs1593m5tqmzlkhynm0000gn/T/ipykernel_17367/1198897394.py:4: DeprecationWarning: the 'DEFAULT' constant is deprecated, use the 'TableStyle' enum instead\n",
      "  prettytable.DEFAULT = prettytable.__dict__.get(\"MSWORD_FRIENDLY\", prettytable.DEFAULT)\n"
     ]
    }
   ],
   "source": [
    "import prettytable\n",
    "\n",
    "# PrettyTable için varsayılan stil tanımlaması\n",
    "prettytable.DEFAULT = prettytable.__dict__.get(\"MSWORD_FRIENDLY\", prettytable.DEFAULT)\n"
   ]
  },
  {
   "cell_type": "code",
   "execution_count": 13,
   "metadata": {},
   "outputs": [
    {
     "data": {
      "text/plain": [
       "['Requirement already satisfied: ipython-sql in /Library/Frameworks/Python.framework/Versions/3.11/lib/python3.11/site-packages (0.5.0)',\n",
       " 'Requirement already satisfied: prettytable in /Library/Frameworks/Python.framework/Versions/3.11/lib/python3.11/site-packages (from ipython-sql) (3.12.0)',\n",
       " 'Requirement already satisfied: ipython in /Users/mehmetsenel/Library/Python/3.11/lib/python/site-packages (from ipython-sql) (8.22.2)',\n",
       " 'Requirement already satisfied: sqlalchemy>=2.0 in /Library/Frameworks/Python.framework/Versions/3.11/lib/python3.11/site-packages (from ipython-sql) (2.0.36)',\n",
       " 'Requirement already satisfied: sqlparse in /Library/Frameworks/Python.framework/Versions/3.11/lib/python3.11/site-packages (from ipython-sql) (0.4.4)',\n",
       " 'Requirement already satisfied: six in /Users/mehmetsenel/Library/Python/3.11/lib/python/site-packages (from ipython-sql) (1.16.0)',\n",
       " 'Requirement already satisfied: ipython-genutils in /Library/Frameworks/Python.framework/Versions/3.11/lib/python3.11/site-packages (from ipython-sql) (0.2.0)',\n",
       " 'Requirement already satisfied: typing-extensions>=4.6.0 in /Library/Frameworks/Python.framework/Versions/3.11/lib/python3.11/site-packages (from sqlalchemy>=2.0->ipython-sql) (4.12.2)',\n",
       " 'Requirement already satisfied: decorator in /Users/mehmetsenel/Library/Python/3.11/lib/python/site-packages (from ipython->ipython-sql) (5.1.1)',\n",
       " 'Requirement already satisfied: jedi>=0.16 in /Users/mehmetsenel/Library/Python/3.11/lib/python/site-packages (from ipython->ipython-sql) (0.19.1)',\n",
       " 'Requirement already satisfied: matplotlib-inline in /Users/mehmetsenel/Library/Python/3.11/lib/python/site-packages (from ipython->ipython-sql) (0.1.6)',\n",
       " 'Requirement already satisfied: prompt-toolkit<3.1.0,>=3.0.41 in /Users/mehmetsenel/Library/Python/3.11/lib/python/site-packages (from ipython->ipython-sql) (3.0.43)',\n",
       " 'Requirement already satisfied: pygments>=2.4.0 in /Users/mehmetsenel/Library/Python/3.11/lib/python/site-packages (from ipython->ipython-sql) (2.17.2)',\n",
       " 'Requirement already satisfied: stack-data in /Users/mehmetsenel/Library/Python/3.11/lib/python/site-packages (from ipython->ipython-sql) (0.6.3)',\n",
       " 'Requirement already satisfied: traitlets>=5.13.0 in /Users/mehmetsenel/Library/Python/3.11/lib/python/site-packages (from ipython->ipython-sql) (5.14.2)',\n",
       " 'Requirement already satisfied: pexpect>4.3 in /Users/mehmetsenel/Library/Python/3.11/lib/python/site-packages (from ipython->ipython-sql) (4.9.0)',\n",
       " 'Requirement already satisfied: wcwidth in /Users/mehmetsenel/Library/Python/3.11/lib/python/site-packages (from prettytable->ipython-sql) (0.2.13)',\n",
       " 'Requirement already satisfied: parso<0.9.0,>=0.8.3 in /Users/mehmetsenel/Library/Python/3.11/lib/python/site-packages (from jedi>=0.16->ipython->ipython-sql) (0.8.3)',\n",
       " 'Requirement already satisfied: ptyprocess>=0.5 in /Users/mehmetsenel/Library/Python/3.11/lib/python/site-packages (from pexpect>4.3->ipython->ipython-sql) (0.7.0)',\n",
       " 'Requirement already satisfied: executing>=1.2.0 in /Users/mehmetsenel/Library/Python/3.11/lib/python/site-packages (from stack-data->ipython->ipython-sql) (2.0.1)',\n",
       " 'Requirement already satisfied: asttokens>=2.1.0 in /Users/mehmetsenel/Library/Python/3.11/lib/python/site-packages (from stack-data->ipython->ipython-sql) (2.4.1)',\n",
       " 'Requirement already satisfied: pure-eval in /Users/mehmetsenel/Library/Python/3.11/lib/python/site-packages (from stack-data->ipython->ipython-sql) (0.2.2)']"
      ]
     },
     "execution_count": 13,
     "metadata": {},
     "output_type": "execute_result"
    }
   ],
   "source": [
    "%%!\n",
    "pip install --trusted-host pypi.org ipython-sql"
   ]
  },
  {
   "cell_type": "code",
   "execution_count": 14,
   "metadata": {},
   "outputs": [
    {
     "name": "stdout",
     "output_type": "stream",
     "text": [
      "The sql extension is already loaded. To reload it, use:\n",
      "  %reload_ext sql\n"
     ]
    }
   ],
   "source": [
    "%load_ext sql"
   ]
  },
  {
   "cell_type": "code",
   "execution_count": 15,
   "metadata": {},
   "outputs": [],
   "source": [
    "%reload_ext sql\n"
   ]
  },
  {
   "cell_type": "code",
   "execution_count": 16,
   "metadata": {},
   "outputs": [],
   "source": [
    "%sql sqlite:////Users/mehmetsenel/Desktop/SQL-JUPİTER/vbo.db"
   ]
  },
  {
   "cell_type": "code",
   "execution_count": 26,
   "metadata": {},
   "outputs": [
    {
     "name": "stdout",
     "output_type": "stream",
     "text": [
      " * sqlite:////Users/mehmetsenel/Desktop/SQL-JUPİTER/vbo.db\n",
      "Done.\n"
     ]
    },
    {
     "data": {
      "text/html": [
       "<table>\n",
       "    <thead>\n",
       "        <tr>\n",
       "            <th>CustomerID</th>\n",
       "            <th>CustomerName</th>\n",
       "            <th>ContactName</th>\n",
       "            <th>Address</th>\n",
       "            <th>City</th>\n",
       "            <th>PostalCode</th>\n",
       "            <th>Country</th>\n",
       "        </tr>\n",
       "    </thead>\n",
       "    <tbody>\n",
       "        <tr>\n",
       "            <td>1</td>\n",
       "            <td>Alfreds Futterkiste</td>\n",
       "            <td>Maria Anders</td>\n",
       "            <td>Obere Str. 57</td>\n",
       "            <td>Berlin</td>\n",
       "            <td>12209</td>\n",
       "            <td>Germany</td>\n",
       "        </tr>\n",
       "        <tr>\n",
       "            <td>2</td>\n",
       "            <td>Ana Trujillo Emparedados y helados</td>\n",
       "            <td>Ana Trujillo</td>\n",
       "            <td>Avda. de la Constitución 2222</td>\n",
       "            <td>México D.F.</td>\n",
       "            <td>5021</td>\n",
       "            <td>Mexico</td>\n",
       "        </tr>\n",
       "        <tr>\n",
       "            <td>3</td>\n",
       "            <td>Antonio Moreno Taquería</td>\n",
       "            <td>Antonio Moreno</td>\n",
       "            <td>Mataderos 2312</td>\n",
       "            <td>México D.F.</td>\n",
       "            <td>5023</td>\n",
       "            <td>Mexico</td>\n",
       "        </tr>\n",
       "    </tbody>\n",
       "</table>"
      ],
      "text/plain": [
       "[(1, 'Alfreds Futterkiste', 'Maria Anders', 'Obere Str. 57', 'Berlin', '12209', 'Germany'),\n",
       " (2, 'Ana Trujillo Emparedados y helados', 'Ana Trujillo', 'Avda. de la Constitución 2222', 'México D.F.', '5021', 'Mexico'),\n",
       " (3, 'Antonio Moreno Taquería', 'Antonio Moreno', 'Mataderos 2312', 'México D.F.', '5023', 'Mexico')]"
      ]
     },
     "execution_count": 26,
     "metadata": {},
     "output_type": "execute_result"
    }
   ],
   "source": [
    "%%sql\n",
    "SELECT * FROM Customers LIMIT 3 ;\n"
   ]
  },
  {
   "cell_type": "code",
   "execution_count": 18,
   "metadata": {},
   "outputs": [
    {
     "name": "stdout",
     "output_type": "stream",
     "text": [
      " * sqlite:////Users/mehmetsenel/Desktop/SQL-JUPİTER/vbo.db\n",
      "Done.\n"
     ]
    },
    {
     "data": {
      "text/plain": [
       "[]"
      ]
     },
     "execution_count": 18,
     "metadata": {},
     "output_type": "execute_result"
    }
   ],
   "source": [
    "%%sql\n",
    "CREATE TABLE yeni_tablo(firstname varchar(20),\n",
    "                        lastname varchar(20));"
   ]
  },
  {
   "cell_type": "code",
   "execution_count": 22,
   "metadata": {},
   "outputs": [
    {
     "name": "stdout",
     "output_type": "stream",
     "text": [
      " * sqlite:////Users/mehmetsenel/Desktop/SQL-JUPİTER/vbo.db\n",
      "1 rows affected.\n"
     ]
    },
    {
     "data": {
      "text/plain": [
       "[]"
      ]
     },
     "execution_count": 22,
     "metadata": {},
     "output_type": "execute_result"
    }
   ],
   "source": [
    "%%sql\n",
    "INSERT INTO yeni_tablo VALUES ('Ali','Uzak');"
   ]
  },
  {
   "cell_type": "code",
   "execution_count": 27,
   "metadata": {},
   "outputs": [
    {
     "name": "stdout",
     "output_type": "stream",
     "text": [
      " * sqlite:////Users/mehmetsenel/Desktop/SQL-JUPİTER/vbo.db\n",
      "Done.\n"
     ]
    },
    {
     "data": {
      "text/html": [
       "<table>\n",
       "    <thead>\n",
       "        <tr>\n",
       "            <th>firstname</th>\n",
       "            <th>lastname</th>\n",
       "        </tr>\n",
       "    </thead>\n",
       "    <tbody>\n",
       "        <tr>\n",
       "            <td>Mehmet</td>\n",
       "            <td>Şenel</td>\n",
       "        </tr>\n",
       "        <tr>\n",
       "            <td>Berke</td>\n",
       "            <td>Özer</td>\n",
       "        </tr>\n",
       "        <tr>\n",
       "            <td>Ali</td>\n",
       "            <td>Uzak</td>\n",
       "        </tr>\n",
       "    </tbody>\n",
       "</table>"
      ],
      "text/plain": [
       "[('Mehmet', 'Şenel'), ('Berke', 'Özer'), ('Ali', 'Uzak')]"
      ]
     },
     "execution_count": 27,
     "metadata": {},
     "output_type": "execute_result"
    }
   ],
   "source": [
    "%%sql \n",
    "SELECT * FROM yeni_tablo;"
   ]
  },
  {
   "cell_type": "code",
   "execution_count": 28,
   "metadata": {},
   "outputs": [
    {
     "name": "stdout",
     "output_type": "stream",
     "text": [
      " * sqlite:////Users/mehmetsenel/Desktop/SQL-JUPİTER/vbo.db\n",
      "1 rows affected.\n"
     ]
    },
    {
     "data": {
      "text/plain": [
       "[]"
      ]
     },
     "execution_count": 28,
     "metadata": {},
     "output_type": "execute_result"
    }
   ],
   "source": [
    "%%sql\n",
    "INSERT INTO yeni_tablo VALUES ('Ahmet','Canlı');"
   ]
  },
  {
   "cell_type": "markdown",
   "metadata": {},
   "source": [
    "SELECT İşlemleri \n",
    "\n",
    "- select: seçim anlamı taşır ve veri tabanından çağırma işlemleri için sıkça kullanırız"
   ]
  },
  {
   "cell_type": "code",
   "execution_count": 38,
   "metadata": {},
   "outputs": [
    {
     "name": "stdout",
     "output_type": "stream",
     "text": [
      " * sqlite:////Users/mehmetsenel/Desktop/SQL-JUPİTER/vbo.db\n",
      "Done.\n"
     ]
    },
    {
     "data": {
      "text/html": [
       "<table>\n",
       "    <thead>\n",
       "        <tr>\n",
       "            <th>ProductID</th>\n",
       "            <th>ProductName</th>\n",
       "            <th>SupplierID</th>\n",
       "            <th>CategoryID</th>\n",
       "            <th>Unit</th>\n",
       "            <th>Price</th>\n",
       "        </tr>\n",
       "    </thead>\n",
       "    <tbody>\n",
       "        <tr>\n",
       "            <td>1</td>\n",
       "            <td>Chais</td>\n",
       "            <td>1</td>\n",
       "            <td>1</td>\n",
       "            <td>10 boxes x 20 bags</td>\n",
       "            <td>18</td>\n",
       "        </tr>\n",
       "        <tr>\n",
       "            <td>2</td>\n",
       "            <td>Chang</td>\n",
       "            <td>1</td>\n",
       "            <td>1</td>\n",
       "            <td>24 - 12 oz bottles</td>\n",
       "            <td>19</td>\n",
       "        </tr>\n",
       "        <tr>\n",
       "            <td>3</td>\n",
       "            <td>Aniseed Syrup</td>\n",
       "            <td>1</td>\n",
       "            <td>2</td>\n",
       "            <td>12 - 550 ml bottles</td>\n",
       "            <td>10</td>\n",
       "        </tr>\n",
       "        <tr>\n",
       "            <td>4</td>\n",
       "            <td>Chef Anton&#x27;s Cajun Seasoning</td>\n",
       "            <td>2</td>\n",
       "            <td>2</td>\n",
       "            <td>48 - 6 oz jars</td>\n",
       "            <td>22</td>\n",
       "        </tr>\n",
       "        <tr>\n",
       "            <td>5</td>\n",
       "            <td>Chef Anton&#x27;s Gumbo Mix</td>\n",
       "            <td>2</td>\n",
       "            <td>2</td>\n",
       "            <td>36 boxes</td>\n",
       "            <td>21</td>\n",
       "        </tr>\n",
       "        <tr>\n",
       "            <td>6</td>\n",
       "            <td>Grandma&#x27;s Boysenberry Spread</td>\n",
       "            <td>3</td>\n",
       "            <td>2</td>\n",
       "            <td>12 - 8 oz jars</td>\n",
       "            <td>25</td>\n",
       "        </tr>\n",
       "        <tr>\n",
       "            <td>7</td>\n",
       "            <td>Uncle Bob&#x27;s Organic Dried Pears</td>\n",
       "            <td>3</td>\n",
       "            <td>7</td>\n",
       "            <td>12 - 1 lb pkgs.</td>\n",
       "            <td>30</td>\n",
       "        </tr>\n",
       "        <tr>\n",
       "            <td>8</td>\n",
       "            <td>Northwoods Cranberry Sauce</td>\n",
       "            <td>3</td>\n",
       "            <td>2</td>\n",
       "            <td>12 - 12 oz jars</td>\n",
       "            <td>40</td>\n",
       "        </tr>\n",
       "        <tr>\n",
       "            <td>9</td>\n",
       "            <td>Mishi Kobe Niku</td>\n",
       "            <td>4</td>\n",
       "            <td>6</td>\n",
       "            <td>18 - 500 g pkgs.</td>\n",
       "            <td>97</td>\n",
       "        </tr>\n",
       "        <tr>\n",
       "            <td>10</td>\n",
       "            <td>Ikura</td>\n",
       "            <td>4</td>\n",
       "            <td>8</td>\n",
       "            <td>12 - 200 ml jars</td>\n",
       "            <td>31</td>\n",
       "        </tr>\n",
       "    </tbody>\n",
       "</table>"
      ],
      "text/plain": [
       "[(1, 'Chais', 1, 1, '10 boxes x 20 bags', 18),\n",
       " (2, 'Chang', 1, 1, '24 - 12 oz bottles', 19),\n",
       " (3, 'Aniseed Syrup', 1, 2, '12 - 550 ml bottles', 10),\n",
       " (4, \"Chef Anton's Cajun Seasoning\", 2, 2, '48 - 6 oz jars', 22),\n",
       " (5, \"Chef Anton's Gumbo Mix\", 2, 2, '36 boxes', 21),\n",
       " (6, \"Grandma's Boysenberry Spread\", 3, 2, '12 - 8 oz jars', 25),\n",
       " (7, \"Uncle Bob's Organic Dried Pears\", 3, 7, '12 - 1 lb pkgs.', 30),\n",
       " (8, 'Northwoods Cranberry Sauce', 3, 2, '12 - 12 oz jars', 40),\n",
       " (9, 'Mishi Kobe Niku', 4, 6, '18 - 500 g pkgs.', 97),\n",
       " (10, 'Ikura', 4, 8, '12 - 200 ml jars', 31)]"
      ]
     },
     "execution_count": 38,
     "metadata": {},
     "output_type": "execute_result"
    }
   ],
   "source": [
    "%%sql\n",
    "SELECT * FROM  Products LIMIT 10 ;\n"
   ]
  },
  {
   "cell_type": "code",
   "execution_count": 39,
   "metadata": {},
   "outputs": [
    {
     "data": {
      "text/plain": [
       "' \\nfrom = dan anlamı taşır ve veritabanı da yer alan hangi veriyi ya da satır,sutünü \\nçekeceğimizi seçmemize yarar\\nlimit : sınırlama ksııtlma seçme özelliği taşır\\n'"
      ]
     },
     "execution_count": 39,
     "metadata": {},
     "output_type": "execute_result"
    }
   ],
   "source": [
    "\"\"\" \n",
    "from = dan anlamı taşır ve veritabanı da yer alan hangi veriyi ya da satır,sutünü \n",
    "çekeceğimizi seçmemize yarar\n",
    "limit : sınırlama ksııtlma seçme özelliği taşır\n",
    "\"\"\""
   ]
  },
  {
   "cell_type": "code",
   "execution_count": 46,
   "metadata": {},
   "outputs": [
    {
     "name": "stdout",
     "output_type": "stream",
     "text": [
      " * sqlite:////Users/mehmetsenel/Desktop/SQL-JUPİTER/vbo.db\n",
      "Done.\n"
     ]
    },
    {
     "data": {
      "text/html": [
       "<table>\n",
       "    <thead>\n",
       "        <tr>\n",
       "            <th>name</th>\n",
       "        </tr>\n",
       "    </thead>\n",
       "    <tbody>\n",
       "        <tr>\n",
       "            <td>Products</td>\n",
       "        </tr>\n",
       "        <tr>\n",
       "            <td>Customers</td>\n",
       "        </tr>\n",
       "        <tr>\n",
       "            <td>Employees</td>\n",
       "        </tr>\n",
       "        <tr>\n",
       "            <td>OrderDetails</td>\n",
       "        </tr>\n",
       "        <tr>\n",
       "            <td>Orders</td>\n",
       "        </tr>\n",
       "        <tr>\n",
       "            <td>Shippers</td>\n",
       "        </tr>\n",
       "        <tr>\n",
       "            <td>Suppliers</td>\n",
       "        </tr>\n",
       "        <tr>\n",
       "            <td>Categories</td>\n",
       "        </tr>\n",
       "        <tr>\n",
       "            <td>yeni_tablo</td>\n",
       "        </tr>\n",
       "    </tbody>\n",
       "</table>"
      ],
      "text/plain": [
       "[('Products',),\n",
       " ('Customers',),\n",
       " ('Employees',),\n",
       " ('OrderDetails',),\n",
       " ('Orders',),\n",
       " ('Shippers',),\n",
       " ('Suppliers',),\n",
       " ('Categories',),\n",
       " ('yeni_tablo',)]"
      ]
     },
     "execution_count": 46,
     "metadata": {},
     "output_type": "execute_result"
    }
   ],
   "source": [
    "\n",
    "%%sql\n",
    "SELECT name FROM sqlite_master WHERE type = 'table' ;\n"
   ]
  },
  {
   "cell_type": "code",
   "execution_count": 47,
   "metadata": {},
   "outputs": [
    {
     "name": "stdout",
     "output_type": "stream",
     "text": [
      " * sqlite:////Users/mehmetsenel/Desktop/SQL-JUPİTER/vbo.db\n",
      "Done.\n"
     ]
    },
    {
     "data": {
      "text/html": [
       "<table>\n",
       "    <thead>\n",
       "        <tr>\n",
       "            <th>CustomerID</th>\n",
       "            <th>CustomerName</th>\n",
       "            <th>ContactName</th>\n",
       "            <th>Address</th>\n",
       "            <th>City</th>\n",
       "            <th>PostalCode</th>\n",
       "            <th>Country</th>\n",
       "        </tr>\n",
       "    </thead>\n",
       "    <tbody>\n",
       "    </tbody>\n",
       "</table>"
      ],
      "text/plain": [
       "[]"
      ]
     },
     "execution_count": 47,
     "metadata": {},
     "output_type": "execute_result"
    }
   ],
   "source": [
    "%%sql\n",
    "SELECT * FROM  Customers where 1=0;\n"
   ]
  },
  {
   "cell_type": "code",
   "execution_count": 50,
   "metadata": {},
   "outputs": [
    {
     "name": "stdout",
     "output_type": "stream",
     "text": [
      " * sqlite:////Users/mehmetsenel/Desktop/SQL-JUPİTER/vbo.db\n",
      "Done.\n"
     ]
    },
    {
     "data": {
      "text/html": [
       "<table>\n",
       "    <thead>\n",
       "        <tr>\n",
       "            <th>CustomerName</th>\n",
       "            <th>City</th>\n",
       "            <th>Country</th>\n",
       "        </tr>\n",
       "    </thead>\n",
       "    <tbody>\n",
       "        <tr>\n",
       "            <td>Alfreds Futterkiste</td>\n",
       "            <td>Berlin</td>\n",
       "            <td>Germany</td>\n",
       "        </tr>\n",
       "        <tr>\n",
       "            <td>Ana Trujillo Emparedados y helados</td>\n",
       "            <td>México D.F.</td>\n",
       "            <td>Mexico</td>\n",
       "        </tr>\n",
       "        <tr>\n",
       "            <td>Antonio Moreno Taquería</td>\n",
       "            <td>México D.F.</td>\n",
       "            <td>Mexico</td>\n",
       "        </tr>\n",
       "        <tr>\n",
       "            <td>Around the Horn</td>\n",
       "            <td>London</td>\n",
       "            <td>UK</td>\n",
       "        </tr>\n",
       "        <tr>\n",
       "            <td>Berglunds snabbköp</td>\n",
       "            <td>Luleå</td>\n",
       "            <td>Sweden</td>\n",
       "        </tr>\n",
       "        <tr>\n",
       "            <td>Blauer See Delikatessen</td>\n",
       "            <td>Mannheim</td>\n",
       "            <td>Germany</td>\n",
       "        </tr>\n",
       "        <tr>\n",
       "            <td>Blondel père et fils</td>\n",
       "            <td>Strasbourg</td>\n",
       "            <td>France</td>\n",
       "        </tr>\n",
       "        <tr>\n",
       "            <td>Bólido Comidas preparadas</td>\n",
       "            <td>Madrid</td>\n",
       "            <td>Spain</td>\n",
       "        </tr>\n",
       "        <tr>\n",
       "            <td>Bon app&#x27;</td>\n",
       "            <td>Marseille</td>\n",
       "            <td>France</td>\n",
       "        </tr>\n",
       "        <tr>\n",
       "            <td>Bottom-Dollar Marketse</td>\n",
       "            <td>Tsawassen</td>\n",
       "            <td>Canada</td>\n",
       "        </tr>\n",
       "    </tbody>\n",
       "</table>"
      ],
      "text/plain": [
       "[('Alfreds Futterkiste', 'Berlin', 'Germany'),\n",
       " ('Ana Trujillo Emparedados y helados', 'México D.F.', 'Mexico'),\n",
       " ('Antonio Moreno Taquería', 'México D.F.', 'Mexico'),\n",
       " ('Around the Horn', 'London', 'UK'),\n",
       " ('Berglunds snabbköp', 'Luleå', 'Sweden'),\n",
       " ('Blauer See Delikatessen', 'Mannheim', 'Germany'),\n",
       " ('Blondel père et fils', 'Strasbourg', 'France'),\n",
       " ('Bólido Comidas preparadas', 'Madrid', 'Spain'),\n",
       " (\"Bon app'\", 'Marseille', 'France'),\n",
       " ('Bottom-Dollar Marketse', 'Tsawassen', 'Canada')]"
      ]
     },
     "execution_count": 50,
     "metadata": {},
     "output_type": "execute_result"
    }
   ],
   "source": [
    "%%sql\n",
    "SELECT  CustomerName ,City , Country FROM Customers LIMIT 10;"
   ]
  },
  {
   "cell_type": "code",
   "execution_count": 53,
   "metadata": {},
   "outputs": [
    {
     "name": "stdout",
     "output_type": "stream",
     "text": [
      " * sqlite:////Users/mehmetsenel/Desktop/SQL-JUPİTER/vbo.db\n",
      "Done.\n"
     ]
    },
    {
     "data": {
      "text/html": [
       "<table>\n",
       "    <thead>\n",
       "        <tr>\n",
       "            <th>Price</th>\n",
       "            <th>Price*3</th>\n",
       "            <th>Price*3-100</th>\n",
       "        </tr>\n",
       "    </thead>\n",
       "    <tbody>\n",
       "        <tr>\n",
       "            <td>18</td>\n",
       "            <td>54</td>\n",
       "            <td>-46</td>\n",
       "        </tr>\n",
       "        <tr>\n",
       "            <td>19</td>\n",
       "            <td>57</td>\n",
       "            <td>-43</td>\n",
       "        </tr>\n",
       "        <tr>\n",
       "            <td>10</td>\n",
       "            <td>30</td>\n",
       "            <td>-70</td>\n",
       "        </tr>\n",
       "        <tr>\n",
       "            <td>22</td>\n",
       "            <td>66</td>\n",
       "            <td>-34</td>\n",
       "        </tr>\n",
       "        <tr>\n",
       "            <td>21</td>\n",
       "            <td>63</td>\n",
       "            <td>-37</td>\n",
       "        </tr>\n",
       "        <tr>\n",
       "            <td>25</td>\n",
       "            <td>75</td>\n",
       "            <td>-25</td>\n",
       "        </tr>\n",
       "        <tr>\n",
       "            <td>30</td>\n",
       "            <td>90</td>\n",
       "            <td>-10</td>\n",
       "        </tr>\n",
       "        <tr>\n",
       "            <td>40</td>\n",
       "            <td>120</td>\n",
       "            <td>20</td>\n",
       "        </tr>\n",
       "    </tbody>\n",
       "</table>"
      ],
      "text/plain": [
       "[(18, 54, -46),\n",
       " (19, 57, -43),\n",
       " (10, 30, -70),\n",
       " (22, 66, -34),\n",
       " (21, 63, -37),\n",
       " (25, 75, -25),\n",
       " (30, 90, -10),\n",
       " (40, 120, 20)]"
      ]
     },
     "execution_count": 53,
     "metadata": {},
     "output_type": "execute_result"
    }
   ],
   "source": [
    "%%sql\n",
    "SELECT Price , Price*3, Price*3-100 FROM Products LIMIT 8;"
   ]
  },
  {
   "cell_type": "markdown",
   "metadata": {},
   "source": [
    "- * -> all anlamı taşır ve yıldız yerine özellikle çağrımak istediğimiz başlıkalr içerikler yazılabilir\n",
    "- matematiksel işlemler olduğu gibi yazılarak kullanılabilir.\n",
    "- AS fonksiyonu ile oluşturulan yeni sütunlar isimlendirilir ve kaydedilebilir.\n"
   ]
  },
  {
   "cell_type": "code",
   "execution_count": 55,
   "metadata": {},
   "outputs": [
    {
     "name": "stdout",
     "output_type": "stream",
     "text": [
      " * sqlite:////Users/mehmetsenel/Desktop/SQL-JUPİTER/vbo.db\n",
      "Done.\n"
     ]
    },
    {
     "data": {
      "text/html": [
       "<table>\n",
       "    <thead>\n",
       "        <tr>\n",
       "            <th>ilk_price</th>\n",
       "            <th>yeni_price</th>\n",
       "            <th>işlemli_price</th>\n",
       "        </tr>\n",
       "    </thead>\n",
       "    <tbody>\n",
       "        <tr>\n",
       "            <td>18</td>\n",
       "            <td>54</td>\n",
       "            <td>-46</td>\n",
       "        </tr>\n",
       "        <tr>\n",
       "            <td>19</td>\n",
       "            <td>57</td>\n",
       "            <td>-43</td>\n",
       "        </tr>\n",
       "        <tr>\n",
       "            <td>10</td>\n",
       "            <td>30</td>\n",
       "            <td>-70</td>\n",
       "        </tr>\n",
       "        <tr>\n",
       "            <td>22</td>\n",
       "            <td>66</td>\n",
       "            <td>-34</td>\n",
       "        </tr>\n",
       "        <tr>\n",
       "            <td>21</td>\n",
       "            <td>63</td>\n",
       "            <td>-37</td>\n",
       "        </tr>\n",
       "        <tr>\n",
       "            <td>25</td>\n",
       "            <td>75</td>\n",
       "            <td>-25</td>\n",
       "        </tr>\n",
       "        <tr>\n",
       "            <td>30</td>\n",
       "            <td>90</td>\n",
       "            <td>-10</td>\n",
       "        </tr>\n",
       "        <tr>\n",
       "            <td>40</td>\n",
       "            <td>120</td>\n",
       "            <td>20</td>\n",
       "        </tr>\n",
       "        <tr>\n",
       "            <td>97</td>\n",
       "            <td>291</td>\n",
       "            <td>191</td>\n",
       "        </tr>\n",
       "        <tr>\n",
       "            <td>31</td>\n",
       "            <td>93</td>\n",
       "            <td>-7</td>\n",
       "        </tr>\n",
       "    </tbody>\n",
       "</table>"
      ],
      "text/plain": [
       "[(18, 54, -46),\n",
       " (19, 57, -43),\n",
       " (10, 30, -70),\n",
       " (22, 66, -34),\n",
       " (21, 63, -37),\n",
       " (25, 75, -25),\n",
       " (30, 90, -10),\n",
       " (40, 120, 20),\n",
       " (97, 291, 191),\n",
       " (31, 93, -7)]"
      ]
     },
     "execution_count": 55,
     "metadata": {},
     "output_type": "execute_result"
    }
   ],
   "source": [
    "%%sql\n",
    "SELECT Price AS ilk_price , Price*3 AS yeni_price, Price*3-100 AS işlemli_price FROM Products LIMIT 10 ;"
   ]
  },
  {
   "cell_type": "code",
   "execution_count": 62,
   "metadata": {},
   "outputs": [
    {
     "name": "stdout",
     "output_type": "stream",
     "text": [
      " * sqlite:////Users/mehmetsenel/Desktop/SQL-JUPİTER/vbo.db\n",
      "Done.\n"
     ]
    },
    {
     "data": {
      "text/html": [
       "<table>\n",
       "    <thead>\n",
       "        <tr>\n",
       "            <th>satir_sayisi</th>\n",
       "        </tr>\n",
       "    </thead>\n",
       "    <tbody>\n",
       "        <tr>\n",
       "            <td>77</td>\n",
       "        </tr>\n",
       "    </tbody>\n",
       "</table>"
      ],
      "text/plain": [
       "[(77,)]"
      ]
     },
     "execution_count": 62,
     "metadata": {},
     "output_type": "execute_result"
    }
   ],
   "source": [
    "%%sql \n",
    "SELECT COUNT (*) AS satir_sayisi FROM Products;"
   ]
  },
  {
   "cell_type": "code",
   "execution_count": 63,
   "metadata": {},
   "outputs": [
    {
     "name": "stdout",
     "output_type": "stream",
     "text": [
      " * sqlite:////Users/mehmetsenel/Desktop/SQL-JUPİTER/vbo.db\n",
      "Done.\n"
     ]
    },
    {
     "data": {
      "text/html": [
       "<table>\n",
       "    <thead>\n",
       "        <tr>\n",
       "            <th>ProductID</th>\n",
       "            <th>ProductName</th>\n",
       "            <th>SupplierID</th>\n",
       "            <th>CategoryID</th>\n",
       "            <th>Unit</th>\n",
       "            <th>Price</th>\n",
       "        </tr>\n",
       "    </thead>\n",
       "    <tbody>\n",
       "        <tr>\n",
       "            <td>13</td>\n",
       "            <td>Konbu</td>\n",
       "            <td>6</td>\n",
       "            <td>8</td>\n",
       "            <td>2 kg box</td>\n",
       "            <td>6</td>\n",
       "        </tr>\n",
       "        <tr>\n",
       "            <td>52</td>\n",
       "            <td>Filo Mix</td>\n",
       "            <td>24</td>\n",
       "            <td>5</td>\n",
       "            <td>16 - 2 kg boxes</td>\n",
       "            <td>7</td>\n",
       "        </tr>\n",
       "        <tr>\n",
       "            <td>23</td>\n",
       "            <td>Tunnbröd</td>\n",
       "            <td>9</td>\n",
       "            <td>5</td>\n",
       "            <td>12 - 250 g pkgs.</td>\n",
       "            <td>9</td>\n",
       "        </tr>\n",
       "        <tr>\n",
       "            <td>3</td>\n",
       "            <td>Aniseed Syrup</td>\n",
       "            <td>1</td>\n",
       "            <td>2</td>\n",
       "            <td>12 - 550 ml bottles</td>\n",
       "            <td>10</td>\n",
       "        </tr>\n",
       "        <tr>\n",
       "            <td>21</td>\n",
       "            <td>Sir Rodney&#x27;s Scones</td>\n",
       "            <td>8</td>\n",
       "            <td>3</td>\n",
       "            <td>24 pkgs. x 4 pieces</td>\n",
       "            <td>10</td>\n",
       "        </tr>\n",
       "        <tr>\n",
       "            <td>74</td>\n",
       "            <td>Longlife Tofu</td>\n",
       "            <td>4</td>\n",
       "            <td>7</td>\n",
       "            <td>5 kg pkg.</td>\n",
       "            <td>10</td>\n",
       "        </tr>\n",
       "        <tr>\n",
       "            <td>46</td>\n",
       "            <td>Spegesild</td>\n",
       "            <td>21</td>\n",
       "            <td>8</td>\n",
       "            <td>4 - 450 g glasses</td>\n",
       "            <td>12</td>\n",
       "        </tr>\n",
       "        <tr>\n",
       "            <td>58</td>\n",
       "            <td>Escargots de Bourgogne</td>\n",
       "            <td>27</td>\n",
       "            <td>8</td>\n",
       "            <td>24 pieces</td>\n",
       "            <td>13</td>\n",
       "        </tr>\n",
       "        <tr>\n",
       "            <td>77</td>\n",
       "            <td>Original Frankfurter grüne Soße</td>\n",
       "            <td>12</td>\n",
       "            <td>2</td>\n",
       "            <td>12 boxes</td>\n",
       "            <td>13</td>\n",
       "        </tr>\n",
       "        <tr>\n",
       "            <td>25</td>\n",
       "            <td>NuNuCa Nuß-Nougat-Creme</td>\n",
       "            <td>11</td>\n",
       "            <td>3</td>\n",
       "            <td>20 - 450 g glasses</td>\n",
       "            <td>14</td>\n",
       "        </tr>\n",
       "    </tbody>\n",
       "</table>"
      ],
      "text/plain": [
       "[(13, 'Konbu', 6, 8, '2 kg box', 6),\n",
       " (52, 'Filo Mix', 24, 5, '16 - 2 kg boxes', 7),\n",
       " (23, 'Tunnbröd', 9, 5, '12 - 250 g pkgs.', 9),\n",
       " (3, 'Aniseed Syrup', 1, 2, '12 - 550 ml bottles', 10),\n",
       " (21, \"Sir Rodney's Scones\", 8, 3, '24 pkgs. x 4 pieces', 10),\n",
       " (74, 'Longlife Tofu', 4, 7, '5 kg pkg.', 10),\n",
       " (46, 'Spegesild', 21, 8, '4 - 450 g glasses', 12),\n",
       " (58, 'Escargots de Bourgogne', 27, 8, '24 pieces', 13),\n",
       " (77, 'Original Frankfurter grüne Soße', 12, 2, '12 boxes', 13),\n",
       " (25, 'NuNuCa Nuß-Nougat-Creme', 11, 3, '20 - 450 g glasses', 14)]"
      ]
     },
     "execution_count": 63,
     "metadata": {},
     "output_type": "execute_result"
    }
   ],
   "source": [
    "%%sql \n",
    "SELECT * FROM Products ORDER BY Price LIMIT 10;"
   ]
  },
  {
   "cell_type": "markdown",
   "metadata": {},
   "source": [
    "- sayma işlemleri için \"count\" ifadesi kullanılır.\n",
    "- sıralama işlemleri için \"order by \" ifadesi yer alır bu ifade küçükten büyüğe sıralar,\n",
    "tam tersi için \"order by desc\" ifadesi kullanılır."
   ]
  },
  {
   "cell_type": "markdown",
   "metadata": {},
   "source": []
  }
 ],
 "metadata": {
  "kernelspec": {
   "display_name": "Python 3",
   "language": "python",
   "name": "python3"
  },
  "language_info": {
   "codemirror_mode": {
    "name": "ipython",
    "version": 3
   },
   "file_extension": ".py",
   "mimetype": "text/x-python",
   "name": "python",
   "nbconvert_exporter": "python",
   "pygments_lexer": "ipython3",
   "version": "3.11.4"
  }
 },
 "nbformat": 4,
 "nbformat_minor": 2
}
